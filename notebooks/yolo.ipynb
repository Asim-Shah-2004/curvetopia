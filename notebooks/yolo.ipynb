{
  "nbformat": 4,
  "nbformat_minor": 0,
  "metadata": {
    "colab": {
      "provenance": [],
      "toc_visible": true,
      "gpuType": "T4"
    },
    "kernelspec": {
      "name": "python3",
      "display_name": "Python 3"
    },
    "language_info": {
      "name": "python"
    },
    "accelerator": "GPU"
  },
  "cells": [
    {
      "cell_type": "code",
      "execution_count": 2,
      "metadata": {
        "colab": {
          "base_uri": "https://localhost:8080/"
        },
        "id": "CAWu6Fn35Yt4",
        "outputId": "4bd07552-f6bb-4497-cda9-a0c98b855c6f"
      },
      "outputs": [
        {
          "output_type": "stream",
          "name": "stdout",
          "text": [
            "Mounted at /content/drive\n"
          ]
        }
      ],
      "source": [
        "from google.colab import drive\n",
        "drive.mount('/content/drive')"
      ]
    },
    {
      "cell_type": "code",
      "source": [
        "!pip install ultralytics\n",
        "from ultralytics import YOLO\n",
        "\n",
        "# Define the actual path of the dataset\n",
        "data_yaml_path = 'data.yaml'  # YAML configuration file for YOLO\n",
        "\n",
        "# Create a YAML configuration file for YOLOv8\n",
        "with open(data_yaml_path, 'w') as f:\n",
        "    f.write(\"\"\"\n",
        "train: /content/drive/MyDrive/dataset2  # Update this to the correct path\n",
        "val: /content/drive/MyDrive/dataset2  # For demonstration, using the same dataset for validation. Consider separating.\n",
        "\n",
        "nc: 8  # Number of classes\n",
        "names:\n",
        "  0: 'line'\n",
        "  1: 'triangle'\n",
        "  2: 'square'\n",
        "  3: 'circle'\n",
        "  4: 'ellipse'\n",
        "  5: 'rectangle'\n",
        "  6: 'star'\n",
        "  7: 'regular_polygon'\n",
        "\"\"\")\n",
        "\n",
        "# Initialize and train the model\n",
        "model = YOLO('yolov8n.yaml')  # Load YOLOv8 model configuration (YOLOv8n for nano model)\n",
        "\n",
        "# Train the model\n",
        "results = model.train(\n",
        "    data=data_yaml_path,  # Path to YAML file\n",
        "    epochs=170,  # Number of training epochs\n",
        "    imgsz=640,  # Image size\n",
        "    batch=16,   # Batch size\n",
        "    project='yolov8_project',  # Project directory to save results\n",
        "    name='geometric_shapes',  # Name of the run\n",
        "    cache=True  # Cache images for faster training\n",
        ")\n",
        "\n",
        "# Print result\n",
        "print(results)\n"
      ],
      "metadata": {
        "id": "7QviMmtT66LU"
      },
      "execution_count": null,
      "outputs": []
    },
    {
      "cell_type": "code",
      "source": [
        "!zip -r model.zip /content/yolov8_project"
      ],
      "metadata": {
        "id": "lcZkRRBG66Sr"
      },
      "execution_count": null,
      "outputs": []
    },
    {
      "cell_type": "code",
      "source": [
        "from google.colab import files\n",
        "files.download('model.zip')"
      ],
      "metadata": {
        "id": "iHhmJMQv66Ws"
      },
      "execution_count": null,
      "outputs": []
    }
  ]
}